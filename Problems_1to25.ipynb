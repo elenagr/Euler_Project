{
 "metadata": {
  "name": ""
 },
 "nbformat": 3,
 "nbformat_minor": 0,
 "worksheets": [
  {
   "cells": [
    {
     "cell_type": "code",
     "collapsed": false,
     "input": [
      "# Problem 1\n",
      "# It returns the sum of all multiples of 3 and 5 found between 0 and N\n",
      "import time\n",
      "def mul35(N):\n",
      "    s=time.time()\n",
      "    sum=0\n",
      "    for x in range(N):\n",
      "        if x%3==0 and x%5==0:\n",
      "            sum+=x\n",
      "        else:\n",
      "            if x%3==0:\n",
      "                sum+=x\n",
      "            if x%5==0:\n",
      "                sum+=x\n",
      "    e=time.time()\n",
      "    print(\"%g sec\" % (e-s))\n",
      "    return sum"
     ],
     "language": "python",
     "metadata": {},
     "outputs": [],
     "prompt_number": 8
    },
    {
     "cell_type": "code",
     "collapsed": false,
     "input": [
      "mul35(1000)"
     ],
     "language": "python",
     "metadata": {},
     "outputs": [
      {
       "output_type": "stream",
       "stream": "stdout",
       "text": [
        "0.000536919 sec\n"
       ]
      },
      {
       "metadata": {},
       "output_type": "pyout",
       "prompt_number": 9,
       "text": [
        "233168"
       ]
      }
     ],
     "prompt_number": 9
    },
    {
     "cell_type": "code",
     "collapsed": false,
     "input": [
      "# It returns the first N elements of the Fibonacci series\n",
      "import time\n",
      "def fib(N):\n",
      "    s=time.time()\n",
      "    y = [];\n",
      "    for x in range(N):\n",
      "        if x in [0,1]:\n",
      "            y.append(x)\n",
      "        else:\n",
      "            y.append(y[x-1]+y[x-2])\n",
      "    e=time.time()\n",
      "    print(\"%g sec\" % (e-s))\n",
      "    return y"
     ],
     "language": "python",
     "metadata": {},
     "outputs": [],
     "prompt_number": 12
    },
    {
     "cell_type": "code",
     "collapsed": false,
     "input": [
      "fib(12)"
     ],
     "language": "python",
     "metadata": {},
     "outputs": [
      {
       "output_type": "stream",
       "stream": "stdout",
       "text": [
        "1.40667e-05 sec\n"
       ]
      },
      {
       "metadata": {},
       "output_type": "pyout",
       "prompt_number": 13,
       "text": [
        "[0, 1, 1, 2, 3, 5, 8, 13, 21, 34, 55, 89]"
       ]
      }
     ],
     "prompt_number": 13
    },
    {
     "cell_type": "code",
     "collapsed": false,
     "input": [
      "# Problem 2\n",
      "# It returns the even elements of the Fibonacci series below 4000000 and its sum\n",
      "import time\n",
      "def evenfib(N):\n",
      "    s=time.time()\n",
      "    y = [];\n",
      "    sum = 0;\n",
      "    for x in range(N):\n",
      "        if x in [0,1]:\n",
      "            y.append(x)\n",
      "        else:\n",
      "            y.append(y[x-1]+y[x-2])\n",
      "        if y[x] < 4000000 and y[x]%2==0:\n",
      "            sum+=y[x]\n",
      "    e=time.time()\n",
      "    print(\"%g sec\" % (e-s))\n",
      "    return sum"
     ],
     "language": "python",
     "metadata": {},
     "outputs": [],
     "prompt_number": 20
    },
    {
     "cell_type": "code",
     "collapsed": false,
     "input": [
      "evenfib(1000)"
     ],
     "language": "python",
     "metadata": {},
     "outputs": [
      {
       "output_type": "stream",
       "stream": "stdout",
       "text": [
        "0.00109601 sec\n"
       ]
      },
      {
       "metadata": {},
       "output_type": "pyout",
       "prompt_number": 21,
       "text": [
        "4613732"
       ]
      }
     ],
     "prompt_number": 21
    },
    {
     "cell_type": "code",
     "collapsed": false,
     "input": [
      "# It computes all primes below N in a inefficient way\n",
      "def prime(N):\n",
      "    res=[];\n",
      "    for x in range(2,N):\n",
      "        sum=0;\n",
      "        for y in range(2,x-1):\n",
      "            if x%y == 0:\n",
      "                sum+=1\n",
      "        if sum == 0:\n",
      "            res.append(x)\n",
      "    return res"
     ],
     "language": "python",
     "metadata": {},
     "outputs": [],
     "prompt_number": 7
    },
    {
     "cell_type": "code",
     "collapsed": false,
     "input": [
      "prime(10)"
     ],
     "language": "python",
     "metadata": {},
     "outputs": [
      {
       "metadata": {},
       "output_type": "pyout",
       "prompt_number": 8,
       "text": [
        "[2, 3, 5, 7]"
       ]
      }
     ],
     "prompt_number": 8
    },
    {
     "cell_type": "code",
     "collapsed": false,
     "input": [
      "# It computes the largest prime below N in a inefficient way\n",
      "def LargestPrime(N):\n",
      "    num=range(2,N)\n",
      "    for x in num[::-1]:\n",
      "        sum=0\n",
      "        for y in range(2,x-1):\n",
      "            if x%y == 0:\n",
      "                sum+=1\n",
      "        if sum == 0:\n",
      "            return x"
     ],
     "language": "python",
     "metadata": {},
     "outputs": [],
     "prompt_number": 22
    },
    {
     "cell_type": "code",
     "collapsed": false,
     "input": [
      "LargestPrime(100)"
     ],
     "language": "python",
     "metadata": {},
     "outputs": [
      {
       "metadata": {},
       "output_type": "pyout",
       "prompt_number": 23,
       "text": [
        "97"
       ]
      }
     ],
     "prompt_number": 23
    },
    {
     "cell_type": "code",
     "collapsed": false,
     "input": [
      "# It computes the largest prime factor of N using brute force\n",
      "# It takes forever\n",
      "import math\n",
      "def LargestPrimeFactorBruteForce(N):\n",
      "    Np=int(round(math.sqrt(N)))\n",
      "    prim=LargestPrime(Np)\n",
      "    while N%prim!=0:\n",
      "      prim=LargestPrime(prim)\n",
      "    return prim"
     ],
     "language": "python",
     "metadata": {},
     "outputs": [],
     "prompt_number": 24
    },
    {
     "cell_type": "code",
     "collapsed": false,
     "input": [
      "# Problem 3\n",
      "# It computes the largest prime factor of N in a smart way\n",
      "import math\n",
      "import time \n",
      "def LargestPrimeFactor(N):\n",
      "    s=time.time()\n",
      "    B=2\n",
      "    while N>B:\n",
      "        if N%B==0:\n",
      "            N=N/B\n",
      "            B=2\n",
      "        else:\n",
      "            B+=1\n",
      "    e=time.time()\n",
      "    print(\"%g sec\" % (e-s))\n",
      "    return B"
     ],
     "language": "python",
     "metadata": {},
     "outputs": [],
     "prompt_number": 25
    },
    {
     "cell_type": "code",
     "collapsed": false,
     "input": [
      "LargestPrimeFactor(600851475143)"
     ],
     "language": "python",
     "metadata": {},
     "outputs": [
      {
       "output_type": "stream",
       "stream": "stdout",
       "text": [
        "0.00251198 sec\n"
       ]
      },
      {
       "metadata": {},
       "output_type": "pyout",
       "prompt_number": 19,
       "text": [
        "6857"
       ]
      }
     ],
     "prompt_number": 19
    },
    {
     "cell_type": "code",
     "collapsed": false,
     "input": [
      "#It checks if a number is palindrome\n",
      "def pal(N):\n",
      "    if str(N)==str(N)[::-1]:\n",
      "        return True\n",
      "    else:\n",
      "        return False"
     ],
     "language": "python",
     "metadata": {},
     "outputs": [],
     "prompt_number": 28
    },
    {
     "cell_type": "code",
     "collapsed": false,
     "input": [
      "pal(101)"
     ],
     "language": "python",
     "metadata": {},
     "outputs": [
      {
       "metadata": {},
       "output_type": "pyout",
       "prompt_number": 29,
       "text": [
        "True"
       ]
      }
     ],
     "prompt_number": 29
    },
    {
     "cell_type": "code",
     "collapsed": false,
     "input": [
      "# Problem 4\n",
      "# It computes the largest palindrom number made by the product of two N-digit number\n",
      "import time\n",
      "def palnbyn(N):\n",
      "    s=time.time()\n",
      "    vec=range(10**(N-1),10**N)\n",
      "    res=0\n",
      "    for x in vec[::-1]:\n",
      "        for y in vec[::-1]:\n",
      "            if x*y > res:\n",
      "                if pal(x*y)==True:\n",
      "                    res=x*y\n",
      "            else:\n",
      "                break\n",
      "    e=time.time()\n",
      "    print(\"%g sec\" % (e-s))\n",
      "    return res"
     ],
     "language": "python",
     "metadata": {},
     "outputs": [],
     "prompt_number": 30
    },
    {
     "cell_type": "code",
     "collapsed": false,
     "input": [
      "palnbyn(4)"
     ],
     "language": "python",
     "metadata": {},
     "outputs": [
      {
       "output_type": "stream",
       "stream": "stdout",
       "text": [
        "0.408461 sec\n"
       ]
      },
      {
       "metadata": {},
       "output_type": "pyout",
       "prompt_number": 31,
       "text": [
        "99000099"
       ]
      }
     ],
     "prompt_number": 31
    },
    {
     "cell_type": "code",
     "collapsed": false,
     "input": [
      "# Problem 5\n",
      "# It computes the smallest multiple of the numbers from 1 to N in a very inefficient way\n",
      "# It's easier to compute it by factorizing each number and then multiplying the greatest exponential of each prime as we \n",
      "# did in school\n",
      "# 20=2^2*5; 19; 18=2*3^2; 17; 16=2^4; 15=3*5; 14=2*7; 13; 12=2^2*3; 11\n",
      "# 2^4*3^2*5*7*11*13*17*19=232792560\n",
      "import time\n",
      "def smalmul(N):\n",
      "    s=time.time()\n",
      "    res=0\n",
      "    num=0\n",
      "    while res != N-1:\n",
      "        res=0\n",
      "        num+=N\n",
      "        for x in range(1,N):\n",
      "            if num%x==0:\n",
      "                res+=1\n",
      "    e=time.time()\n",
      "    print(\"%g sec\" % (e-s))\n",
      "    return num"
     ],
     "language": "python",
     "metadata": {},
     "outputs": [],
     "prompt_number": 34
    },
    {
     "cell_type": "code",
     "collapsed": false,
     "input": [
      "smalmul(20)"
     ],
     "language": "python",
     "metadata": {},
     "outputs": [
      {
       "output_type": "stream",
       "stream": "stdout",
       "text": [
        "34.6369 sec\n"
       ]
      },
      {
       "metadata": {},
       "output_type": "pyout",
       "prompt_number": 35,
       "text": [
        "232792560"
       ]
      }
     ],
     "prompt_number": 35
    },
    {
     "cell_type": "code",
     "collapsed": false,
     "input": [
      "2**4*3**2*5*7*11*13*17*19"
     ],
     "language": "python",
     "metadata": {},
     "outputs": [
      {
       "metadata": {},
       "output_type": "pyout",
       "prompt_number": 22,
       "text": [
        "232792560"
       ]
      }
     ],
     "prompt_number": 22
    },
    {
     "cell_type": "code",
     "collapsed": false,
     "input": [
      "# Problem 6\n",
      "# It computes the difference between the sum of the squares of the first one hundred natural numbers and the square of the sum.\n",
      "def sumsqdif(N):\n",
      "    sqsum=0\n",
      "    sumsq=0\n",
      "    for x in range(N+1):\n",
      "        sqsum+=x**2\n",
      "        sumsq+=x\n",
      "    sumsq=sumsq**2\n",
      "    diff=sumsq-sqsum\n",
      "    return diff"
     ],
     "language": "python",
     "metadata": {},
     "outputs": [],
     "prompt_number": 36
    },
    {
     "cell_type": "code",
     "collapsed": false,
     "input": [
      "sumsqdif(100)"
     ],
     "language": "python",
     "metadata": {},
     "outputs": [
      {
       "metadata": {},
       "output_type": "pyout",
       "prompt_number": 37,
       "text": [
        "25164150"
       ]
      }
     ],
     "prompt_number": 37
    },
    {
     "cell_type": "code",
     "collapsed": false,
     "input": [
      "# Problem 7 brute force (not recomendable talking about primes :-))\n",
      "def primenth(N):\n",
      "    nth=1\n",
      "    x=2\n",
      "    while nth != N:\n",
      "        x+=1\n",
      "        sum=0\n",
      "        for y in range(2,x):\n",
      "            if x%y == 0:\n",
      "                sum+=1\n",
      "        if sum == 0:\n",
      "            nth+=1\n",
      "            prime=x\n",
      "    return prime"
     ],
     "language": "python",
     "metadata": {},
     "outputs": [],
     "prompt_number": 1
    },
    {
     "cell_type": "code",
     "collapsed": false,
     "input": [
      "primenth(1001)"
     ],
     "language": "python",
     "metadata": {},
     "outputs": [
      {
       "metadata": {},
       "output_type": "pyout",
       "prompt_number": 3,
       "text": [
        "7927"
       ]
      }
     ],
     "prompt_number": 3
    },
    {
     "cell_type": "code",
     "collapsed": false,
     "input": [
      "#It computes all prime number from 1 to N in a efficient way\n",
      "def sieve(N):\n",
      "    list = [True for i in range(N+1)]\n",
      "    list[0]=False\n",
      "    list[1]=False\n",
      "    res=[]\n",
      "    i=0\n",
      "    for x in range(N+1):\n",
      "        if list[x]==True:\n",
      "            res.append(x)\n",
      "            for y in range(2,int(round(N/x))+1) :\n",
      "                list[y*x]=False\n",
      "    return res"
     ],
     "language": "python",
     "metadata": {},
     "outputs": [],
     "prompt_number": 8
    },
    {
     "cell_type": "code",
     "collapsed": false,
     "input": [
      "sieve(11)"
     ],
     "language": "python",
     "metadata": {},
     "outputs": [
      {
       "metadata": {},
       "output_type": "pyout",
       "prompt_number": 9,
       "text": [
        "[2, 3, 5, 7, 11]"
       ]
      }
     ],
     "prompt_number": 9
    },
    {
     "cell_type": "code",
     "collapsed": false,
     "input": [
      "# Problem 7\n",
      "# It computes the Nth prime number in a efficient way using the Sieve method\n",
      "import time\n",
      "def primenth_sieve(N):\n",
      "    s=time.time()\n",
      "    num=1000000\n",
      "    list = [True for i in range(num+1)]\n",
      "    list[0]=False\n",
      "    list[1]=False\n",
      "    nth=0\n",
      "    for x in range(num):\n",
      "        if list[x]==True:\n",
      "            nth+=1\n",
      "            if nth == N:\n",
      "                e=time.time()\n",
      "                print(\" %g sec\" % (e-s))\n",
      "                return x;\n",
      "            for y in range(2,int(round(num/x))+1) :\n",
      "                list[y*x]=False\n",
      "    print(\"The %dth prime number is larger than %d\" %(N,num))"
     ],
     "language": "python",
     "metadata": {},
     "outputs": [],
     "prompt_number": 38
    },
    {
     "cell_type": "code",
     "collapsed": false,
     "input": [
      "primenth_sieve(10001)"
     ],
     "language": "python",
     "metadata": {},
     "outputs": [
      {
       "output_type": "stream",
       "stream": "stdout",
       "text": [
        " 0.635075 sec\n"
       ]
      },
      {
       "metadata": {},
       "output_type": "pyout",
       "prompt_number": 39,
       "text": [
        "104743"
       ]
      }
     ],
     "prompt_number": 39
    },
    {
     "cell_type": "code",
     "collapsed": false,
     "input": [
      "#It returns a vector whose elements are the digits of the given number\n",
      "def digits(x):\n",
      "    digits=[]\n",
      "    vec=range(1,len(str(x)))\n",
      "    for y in vec[::-1]:\n",
      "        digits.append(int(x/(10**y)))\n",
      "        x=x%10**y\n",
      "    digits.append(int(x))\n",
      "    return digits\n",
      "\n",
      "# much easier in python!!\n",
      "# list(str(x))"
     ],
     "language": "python",
     "metadata": {},
     "outputs": [],
     "prompt_number": 202
    },
    {
     "cell_type": "code",
     "collapsed": false,
     "input": [
      "digits(234543535454454534443)"
     ],
     "language": "python",
     "metadata": {},
     "outputs": [
      {
       "metadata": {},
       "output_type": "pyout",
       "prompt_number": 200,
       "text": [
        "[2, 3, 4, 5, 4, 3, 5, 3, 5, 4, 5, 4, 4, 5, 4, 5, 3, 4, 4, 4, 3]"
       ]
      }
     ],
     "prompt_number": 200
    },
    {
     "cell_type": "code",
     "collapsed": false,
     "input": [
      "# Problem 8\n",
      "# It computes the greatest product of five consecutive digits in the 1000-digit number.\n",
      "import time\n",
      "def prob8(N):\n",
      "    s=time.time()\n",
      "    vec=digits(7316717653133062491922511967442657474235534919493496983520312774506326239578318016984801869478851843858615607891129494954595017379583319528532088055111254069874715852386305071569329096329522744304355766896648950445244523161731856403098711121722383113622298934233803081353362766142828064444866452387493035890729629049156044077239071381051585930796086670172427121883998797908792274921901699720888093776657273330010533678812202354218097512545405947522435258490771167055601360483958644670632441572215539753697817977846174064955149290862569321978468622482839722413756570560574902614079729686524145351004748216637048440319989000889524345065854122758866688116427171479924442928230863465674813919123162824586178664583591245665294765456828489128831426076900422421902267105562632111110937054421750694165896040807198403850962455444362981230987879927244284909188845801561660979191338754992005240636899125607176060588611646710940507754100225698315520005593572972571636269561882670428252483600823257530420752963450)\n",
      "    num=0\n",
      "    res=0\n",
      "    while num+N <= len(vec):\n",
      "        prod=1\n",
      "        for x in range(num,num+N):\n",
      "            prod=prod*vec[x]\n",
      "        if prod > res:\n",
      "            res=prod\n",
      "        num+=1\n",
      "    e=time.time()\n",
      "    print(\" %g sec\" % (e-s))\n",
      "    return res"
     ],
     "language": "python",
     "metadata": {},
     "outputs": [],
     "prompt_number": 204
    },
    {
     "cell_type": "code",
     "collapsed": false,
     "input": [
      "prob8(5)"
     ],
     "language": "python",
     "metadata": {},
     "outputs": [
      {
       "output_type": "stream",
       "stream": "stdout",
       "text": [
        " 0.013427 seconds\n"
       ]
      },
      {
       "metadata": {},
       "output_type": "pyout",
       "prompt_number": 205,
       "text": [
        "40824"
       ]
      }
     ],
     "prompt_number": 205
    },
    {
     "cell_type": "code",
     "collapsed": false,
     "input": [
      "# Problem 9\n",
      "# It computes the Pythagorean triplet for which a + b + c = 1000.\n",
      "import math\n",
      "import time\n",
      "def prob9():\n",
      "    s=time.time()\n",
      "    for a in range(500):\n",
      "        for b in range(500):\n",
      "            c=math.sqrt(a**2+b**2)\n",
      "            if a+b+c==1000:\n",
      "                e=time.time()\n",
      "                print(\" %g seconds\" % (e - s))\n",
      "                return a, b, c"
     ],
     "language": "python",
     "metadata": {},
     "outputs": [],
     "prompt_number": 197
    },
    {
     "cell_type": "code",
     "collapsed": false,
     "input": [
      "prob9()"
     ],
     "language": "python",
     "metadata": {},
     "outputs": [
      {
       "output_type": "stream",
       "stream": "stdout",
       "text": [
        " 0.0964611 seconds\n"
       ]
      },
      {
       "metadata": {},
       "output_type": "pyout",
       "prompt_number": 198,
       "text": [
        "(200, 375, 425.0)"
       ]
      }
     ],
     "prompt_number": 198
    },
    {
     "cell_type": "code",
     "collapsed": false,
     "input": [
      "# Problem 10\n",
      "# Computes the sum of all primes below N\n",
      "import time\n",
      "def sumprimes(N):\n",
      "    s=time.time()\n",
      "    list = [True for i in range(N+1)]\n",
      "    list[0]=False\n",
      "    list[1]=False\n",
      "    sum=0\n",
      "    for x in range(N):\n",
      "        if list[x]==True:\n",
      "            sum+=x\n",
      "            for y in range(2,int(round(N/x))+1) :\n",
      "                list[y*x]=False\n",
      "    e=time.time()\n",
      "    print(\" %g seconds\" % (e - s))\n",
      "    return sum"
     ],
     "language": "python",
     "metadata": {},
     "outputs": [],
     "prompt_number": 195
    },
    {
     "cell_type": "code",
     "collapsed": false,
     "input": [
      "sumprimes(2000000)"
     ],
     "language": "python",
     "metadata": {},
     "outputs": [
      {
       "output_type": "stream",
       "stream": "stdout",
       "text": [
        " 1.67184 seconds\n"
       ]
      },
      {
       "metadata": {},
       "output_type": "pyout",
       "prompt_number": 196,
       "text": [
        "142913828922"
       ]
      }
     ],
     "prompt_number": 196
    },
    {
     "cell_type": "code",
     "collapsed": false,
     "input": [
      " def readmatrix(N,text):\n",
      "# Read the matrix from input file\n",
      "    f = open('%s.in'%text)\n",
      "    matrix=[]\n",
      "    for i in range(N):\n",
      "        matrix.append(f.readline().strip().split(' '))\n",
      "#Convert elements of the matrix: string to integers\n",
      "    for j in range(N):\n",
      "        matrix[j] = [int(i) for i in matrix[j]]\n",
      "    return matrix"
     ],
     "language": "python",
     "metadata": {},
     "outputs": [],
     "prompt_number": 224
    },
    {
     "cell_type": "code",
     "collapsed": false,
     "input": [
      "readmatrix(20,\"Prob13\")"
     ],
     "language": "python",
     "metadata": {},
     "outputs": [
      {
       "metadata": {},
       "output_type": "pyout",
       "prompt_number": 226,
       "text": [
        "[[37107287533902102798797998220837590246510135740250L],\n",
        " [46376937677490009712648124896970078050417018260538L],\n",
        " [74324986199524741059474233309513058123726617309629L],\n",
        " [91942213363574161572522430563301811072406154908250L],\n",
        " [23067588207539346171171980310421047513778063246676L],\n",
        " [89261670696623633820136378418383684178734361726757L],\n",
        " [28112879812849979408065481931592621691275889832738L],\n",
        " [44274228917432520321923589422876796487670272189318L],\n",
        " [47451445736001306439091167216856844588711603153276L],\n",
        " [70386486105843025439939619828917593665686757934951L],\n",
        " [62176457141856560629502157223196586755079324193331L],\n",
        " [64906352462741904929101432445813822663347944758178L],\n",
        " [92575867718337217661963751590579239728245598838407L],\n",
        " [58203565325359399008402633568948830189458628227828L],\n",
        " [80181199384826282014278194139940567587151170094390L],\n",
        " [35398664372827112653829987240784473053190104293586L],\n",
        " [86515506006295864861532075273371959191420517255829L],\n",
        " [71693888707715466499115593487603532921714970056938L],\n",
        " [54370070576826684624621495650076471787294438377604L],\n",
        " [53282654108756828443191190634694037855217779295145L]]"
       ]
      }
     ],
     "prompt_number": 226
    },
    {
     "cell_type": "code",
     "collapsed": false,
     "input": [
      "# Problem 11\n",
      "# It computes the greatest product of N consecutive elements of a matrix in all directions\n",
      "import time\n",
      "def prob11(N):\n",
      "    start_time = time.time()\n",
      "# Read the matrix from input file\n",
      "    matrix=readmatrix(20,\"Prob11\")\n",
      "# greatest product of N consecutive digits in the rows and columns\n",
      "    rows=0\n",
      "    cols=0\n",
      "    for y in range(20):\n",
      "        num=0\n",
      "        while num+N <= 20:\n",
      "            prod1=1;prod2=1\n",
      "            for x in range(num,num+N):\n",
      "                prod1=prod1*matrix[y][x] \n",
      "                prod2=prod2*matrix[x][y] \n",
      "            rows=max(prod1,rows)\n",
      "            cols=max(prod2,cols)\n",
      "            num+=1\n",
      "# greatest product of N consecutive digits in the forward and backward diagonal \n",
      "    diagf=0\n",
      "    diagb=0\n",
      "    for out in range(17):\n",
      "        num=0; x=0; y=20\n",
      "        while x+out <19 and x <19 and y-out>0:\n",
      "            prodpf=1; prodmf=1; prodpb=1; prodmb=1\n",
      "            for x in range(num,num+N):\n",
      "                prodpf*=matrix[x][x+out]\n",
      "                prodmf*=matrix[x+out][x]\n",
      "                y=19-x\n",
      "                prodpb*=matrix[x][y-out]\n",
      "                prodmb*=matrix[x+out][y]\n",
      "            diagf=max(prodpf,prodmf,diagf)\n",
      "            diagb=max(prodpb,prodmb,diagb)\n",
      "            num+=1\n",
      "    end_time = time.time()\n",
      "    print(\" %g seconds\" % (end_time - start_time))\n",
      "    print(\"rows: %d\"% (rows))\n",
      "    print(\"columns: %d\" %cols)\n",
      "    print(\"forward diagonals: %d\" % diagf)\n",
      "    print(\"backward diagonals: %d\"% diagb)\n"
     ],
     "language": "python",
     "metadata": {},
     "outputs": [],
     "prompt_number": 238
    },
    {
     "cell_type": "code",
     "collapsed": false,
     "input": [
      "prob11(4)"
     ],
     "language": "python",
     "metadata": {},
     "outputs": [
      {
       "output_type": "stream",
       "stream": "stdout",
       "text": [
        " 0.004143 seconds\n",
        "rows: 48477312\n",
        "columns: 51267216\n",
        "forward diagonals: 40304286\n",
        "backward diagonals: 70600674\n"
       ]
      }
     ],
     "prompt_number": 239
    },
    {
     "cell_type": "code",
     "collapsed": false,
     "input": [
      "# Problem 12\n",
      "# It computes the value of the first triangle number (1+2+3+4+5+...) to have over N divisors\n",
      "# Take into account that it's enough to compute the divisors of sqrt(N) since the number of divisors are just twice\n",
      "# We can compute a triangle number by applying tri=n(n+1)/2 \n",
      "import math\n",
      "import time\n",
      "def prob12(N):\n",
      "    start_time = time.time()\n",
      "    div=0;i=0;tri=0\n",
      "    while div < N:\n",
      "        div=0\n",
      "        i+=1\n",
      "        tri+=i\n",
      "        for x in range(1,int(math.sqrt(tri+1))):\n",
      "            if tri%x==0:\n",
      "                div+=1\n",
      "        div=div*2\n",
      "    end_time = time.time()\n",
      "    print(\"%g seconds\" % (end_time - start_time))\n",
      "    return tri,i,div"
     ],
     "language": "python",
     "metadata": {},
     "outputs": [],
     "prompt_number": 47
    },
    {
     "cell_type": "code",
     "collapsed": false,
     "input": [
      "prob12(500)"
     ],
     "language": "python",
     "metadata": {},
     "outputs": [
      {
       "output_type": "stream",
       "stream": "stdout",
       "text": [
        "5.99872 seconds\n"
       ]
      },
      {
       "metadata": {},
       "output_type": "pyout",
       "prompt_number": 50,
       "text": [
        "(76576500, 12375, 576)"
       ]
      }
     ],
     "prompt_number": 50
    },
    {
     "cell_type": "code",
     "collapsed": false,
     "input": [
      "def readarray(N,text):\n",
      "# Read the matrix from input file\n",
      "    f = open('%s.in'%text)\n",
      "    array=[]\n",
      "    for i in range(N):\n",
      "        array.append(f.readline().strip())\n",
      "    map(int, array) #this doesn't work and I don't know why\n",
      "    return array"
     ],
     "language": "python",
     "metadata": {},
     "outputs": [],
     "prompt_number": 143
    },
    {
     "cell_type": "code",
     "collapsed": false,
     "input": [
      "# Problem 13\n",
      "# It simply sums the elements of an array\n",
      "def sumarray(text):\n",
      "    f=open('%s.in'%text,'r')\n",
      "    sum=0\n",
      "    for line in f:\n",
      "        sum+=int(line)\n",
      "    return sum"
     ],
     "language": "python",
     "metadata": {},
     "outputs": [],
     "prompt_number": 144
    },
    {
     "cell_type": "code",
     "collapsed": false,
     "input": [
      "sumarray(\"Prob13\")"
     ],
     "language": "python",
     "metadata": {},
     "outputs": [
      {
       "metadata": {},
       "output_type": "pyout",
       "prompt_number": 145,
       "text": [
        "5537376230390876637302048746832985971773659831892672L"
       ]
      }
     ],
     "prompt_number": 145
    },
    {
     "cell_type": "code",
     "collapsed": false,
     "input": [
      "# It generates the Collatz Sequence given n\n",
      "def collatz(n):\n",
      "    num=0\n",
      "    while n > 1:\n",
      "        if n%2 == 0:\n",
      "            n=n/2\n",
      "        else:\n",
      "            n=3*n+1\n",
      "        num+=1\n",
      "    return num"
     ],
     "language": "python",
     "metadata": {},
     "outputs": [],
     "prompt_number": 184
    },
    {
     "cell_type": "code",
     "collapsed": false,
     "input": [
      "# Problem 14 \n",
      "# It computes the starting number, under N, which produces the longest chain\n",
      "import time\n",
      "def prob14(N):\n",
      "    start_time=time.time()\n",
      "    res=[0,0]\n",
      "    for n in range(1,N+1):\n",
      "        num=collatz(n)\n",
      "        if num > res[1]: \n",
      "            res=[n,num]\n",
      "    end_time = time.time()\n",
      "    print(\"%g seconds\" % (end_time - start_time))\n",
      "    return res"
     ],
     "language": "python",
     "metadata": {},
     "outputs": [],
     "prompt_number": 206
    },
    {
     "cell_type": "code",
     "collapsed": false,
     "input": [
      "prob14(1000000)"
     ],
     "language": "python",
     "metadata": {},
     "outputs": [
      {
       "output_type": "stream",
       "stream": "stdout",
       "text": [
        "34.0759 seconds\n"
       ]
      },
      {
       "metadata": {},
       "output_type": "pyout",
       "prompt_number": 207,
       "text": [
        "[837799, 524]"
       ]
      }
     ],
     "prompt_number": 207
    },
    {
     "cell_type": "code",
     "collapsed": false,
     "input": [
      "# Problem 15\n",
      "# This problem can be solved using the binomial coefficient\n",
      "# n!/(k!(n-k)!) where n is 40 (number of steps per route) and k=20 (size of the grid)"
     ],
     "language": "python",
     "metadata": {},
     "outputs": [],
     "prompt_number": 156
    },
    {
     "cell_type": "code",
     "collapsed": false,
     "input": [
      "def factorial(n):\n",
      "    if n == 0:\n",
      "        return 1\n",
      "    else:\n",
      "        return n * factorial(n-1)\n",
      "    \n",
      "factorial(40)/(factorial(20)*factorial(40-20))"
     ],
     "language": "python",
     "metadata": {},
     "outputs": [
      {
       "metadata": {},
       "output_type": "pyout",
       "prompt_number": 174,
       "text": [
        "137846528820L"
       ]
      }
     ],
     "prompt_number": 174
    },
    {
     "cell_type": "code",
     "collapsed": false,
     "input": [
      "# Problem 15 \n",
      "# It's very inefficient just did it using random numbers to learn a bit more\n",
      "# Routes from top left corner to bottom right corner of a nxn grid \n",
      "# Only movements allowed are right and down\n",
      "import time\n",
      "import random\n",
      "import numpy as np\n",
      "def prob15ran(n,N):\n",
      "    s=time.time()\n",
      "# initialize our matrix with the two simplest routes\n",
      "    a=np.arange(n+1)\n",
      "    b=np.unique(np.concatenate([a,n+(n+1)*a]))\n",
      "    res=np.unique(np.concatenate([a*(n+1),a+2*(n+1)]))\n",
      "    res=np.vstack([res,b]) \n",
      "# generate N random routes from 0 to n+2*(n+1)\n",
      "    for x in range(N):\n",
      "        i=0;j=0\n",
      "        steps=0\n",
      "        route=np.zeros(2*n+1)\n",
      "        route[0]=0\n",
      "        while i!= n and j!= n:\n",
      "            steps+=1\n",
      "            if random.uniform(0,1)<0.5: \n",
      "                i+=1\n",
      "            else:\n",
      "                j+=1\n",
      "            route[steps]=j+(n+1)*i\n",
      "            if j==n:\n",
      "                while i!=n:\n",
      "                    steps+=1;i+=1\n",
      "                    route[steps]=j+(n+1)*i\n",
      "            if i==n:\n",
      "                while j!=n:\n",
      "                    steps+=1;j+=1\n",
      "                    route[steps]=j+(n+1)*i\n",
      "        repeat=0\n",
      "# Save the result if the route is new\n",
      "        for row in res:\n",
      "            if np.array_equal(route,row):\n",
      "                repeat+=1\n",
      "        if repeat == 0:\n",
      "            res=np.vstack([res,route])\n",
      "    e = time.time()\n",
      "    print(\"%g seconds\" % (e - s))\n",
      "    print(res)\n",
      "    return len(res)"
     ],
     "language": "python",
     "metadata": {},
     "outputs": [],
     "prompt_number": 163
    },
    {
     "cell_type": "code",
     "collapsed": false,
     "input": [
      "prob15ran(6,4000)"
     ],
     "language": "python",
     "metadata": {},
     "outputs": [
      {
       "output_type": "stream",
       "stream": "stdout",
       "text": [
        "36.8879 seconds\n",
        "[[  0.   7.  14. ...,  28.  35.  42.]\n",
        " [  0.   1.   2. ...,  34.  41.  48.]\n",
        " [  0.   7.   8. ...,  46.  47.  48.]\n",
        " ..., \n",
        " [  0.   1.   2. ...,  40.  47.  48.]\n",
        " [  0.   1.   8. ...,  40.  47.  48.]\n",
        " [  0.   7.   8. ...,  40.  41.  48.]]\n"
       ]
      },
      {
       "metadata": {},
       "output_type": "pyout",
       "prompt_number": 180,
       "text": [
        "855"
       ]
      }
     ],
     "prompt_number": 180
    },
    {
     "cell_type": "code",
     "collapsed": false,
     "input": [
      "# A much nicer solution \n",
      "def latticePaths(n):\n",
      "\ta = [2]*n\n",
      "\tfor i in xrange(1, n):\n",
      "\t\ta[0] += 1\n",
      "\t\tfor j in xrange(1,i):\n",
      "\t\t\ta[j] += a[j-1]\n",
      "\t\ta[i] = a[i-1]*2\n",
      "\treturn a[n-1]\n",
      "\n",
      "print latticePaths(20)\n"
     ],
     "language": "python",
     "metadata": {},
     "outputs": [
      {
       "output_type": "stream",
       "stream": "stdout",
       "text": [
        "137846528820\n"
       ]
      }
     ],
     "prompt_number": 183
    },
    {
     "cell_type": "code",
     "collapsed": false,
     "input": [
      "# Problem 16\n",
      "def prob16(n):\n",
      "    a=2**n\n",
      "    print(a)\n",
      "    res=digits(a)\n",
      "    sum=0\n",
      "    for x in res :\n",
      "        sum+=x\n",
      "    return sum"
     ],
     "language": "python",
     "metadata": {},
     "outputs": [],
     "prompt_number": 219
    },
    {
     "cell_type": "code",
     "collapsed": false,
     "input": [
      "# much easier\n",
      "print(sum([int(x) for x in list(str(2**1000))]))"
     ],
     "language": "python",
     "metadata": {},
     "outputs": [
      {
       "output_type": "stream",
       "stream": "stdout",
       "text": [
        "1366\n"
       ]
      }
     ],
     "prompt_number": 220
    },
    {
     "cell_type": "code",
     "collapsed": false,
     "input": [
      "prob16(1000)"
     ],
     "language": "python",
     "metadata": {},
     "outputs": [
      {
       "output_type": "stream",
       "stream": "stdout",
       "text": [
        "10715086071862673209484250490600018105614048117055336074437503883703510511249361224931983788156958581275946729175531468251871452856923140435984577574698574803934567774824230985421074605062371141877954182153046474983581941267398767559165543946077062914571196477686542167660429831652624386837205668069376\n"
       ]
      },
      {
       "metadata": {},
       "output_type": "pyout",
       "prompt_number": 221,
       "text": [
        "1366"
       ]
      }
     ],
     "prompt_number": 221
    },
    {
     "cell_type": "code",
     "collapsed": false,
     "input": [
      "# Problem 17\n",
      "# Just by counting: 21124 "
     ],
     "language": "python",
     "metadata": {},
     "outputs": [],
     "prompt_number": 223
    },
    {
     "cell_type": "code",
     "collapsed": false,
     "input": [
      "# Problem 18 and 67 \n",
      "# It computes the maximum sum of a path from top to bottom of a triangle with N rows stored in text.in\n",
      "import time\n",
      "def pathtrian(N,text):\n",
      "    s = time.time()\n",
      "# Read the matrix from input file\n",
      "    m=readmatrix(N,text)\n",
      "    for j in range(N-1,0,-1):\n",
      "        for i in range(j):\n",
      "            a=m[j-1][i]+m[j][i] \n",
      "            b=m[j-1][i]+m[j][i+1]\n",
      "            m[j-1][i]=max(a,b)\n",
      "    e = time.time()\n",
      "    print(\" %g sec \" %(e-s))\n",
      "    return m[0][0]"
     ],
     "language": "python",
     "metadata": {},
     "outputs": [],
     "prompt_number": 292
    },
    {
     "cell_type": "code",
     "collapsed": false,
     "input": [
      "# Problem 18 \n",
      "pathtrian(15,\"prob18\")"
     ],
     "language": "python",
     "metadata": {},
     "outputs": [
      {
       "output_type": "stream",
       "stream": "stdout",
       "text": [
        " 0.00089097 sec \n"
       ]
      },
      {
       "metadata": {},
       "output_type": "pyout",
       "prompt_number": 293,
       "text": [
        "1074"
       ]
      }
     ],
     "prompt_number": 293
    },
    {
     "cell_type": "code",
     "collapsed": false,
     "input": [
      "# Problem 67\n",
      "pathtrian(100,\"prob67\")"
     ],
     "language": "python",
     "metadata": {},
     "outputs": [
      {
       "output_type": "stream",
       "stream": "stdout",
       "text": [
        " 0.0123942 sec \n"
       ]
      },
      {
       "metadata": {},
       "output_type": "pyout",
       "prompt_number": 294,
       "text": [
        "7273"
       ]
      }
     ],
     "prompt_number": 294
    },
    {
     "cell_type": "code",
     "collapsed": false,
     "input": [
      "# Problem 19 just by counting\n",
      "# 171 Sundays the first day of the month"
     ],
     "language": "python",
     "metadata": {},
     "outputs": [],
     "prompt_number": 287
    },
    {
     "cell_type": "code",
     "collapsed": false,
     "input": [
      "#Problem 20\n",
      "def prob20(N):\n",
      "    res=digits(factorial(N))\n",
      "    sum=0\n",
      "    for x in res :\n",
      "        sum+=x\n",
      "    return sum"
     ],
     "language": "python",
     "metadata": {},
     "outputs": [],
     "prompt_number": 289
    },
    {
     "cell_type": "code",
     "collapsed": false,
     "input": [
      "prob20(100)"
     ],
     "language": "python",
     "metadata": {},
     "outputs": [
      {
       "metadata": {},
       "output_type": "pyout",
       "prompt_number": 291,
       "text": [
        "648"
       ]
      }
     ],
     "prompt_number": 291
    },
    {
     "cell_type": "code",
     "collapsed": false,
     "input": [
      "# Factorize N as a product of prime numbers using Sieves primes\n",
      "# It returns two list, the first one is the prime number and the second gives their corresponding multiplicities.\n",
      "# Example: [[2, 7], [2, 1]] correspond to 2^2*7^1\n",
      "import numpy as np\n",
      "import math\n",
      "def factorize(N):\n",
      "    primes=sieve(N)\n",
      "    res=[[],[]]\n",
      "    for x in primes:\n",
      "        mul=0    \n",
      "        if N%x==0:\n",
      "            res[0].append(x)\n",
      "            while N%x==0:\n",
      "                N=N/x\n",
      "                mul+=1\n",
      "            res[1].append(mul)\n",
      "    return res"
     ],
     "language": "python",
     "metadata": {},
     "outputs": [],
     "prompt_number": 10
    },
    {
     "cell_type": "code",
     "collapsed": false,
     "input": [
      "factorize(28)"
     ],
     "language": "python",
     "metadata": {},
     "outputs": [
      {
       "metadata": {},
       "output_type": "pyout",
       "prompt_number": 11,
       "text": [
        "[[2, 7], [2, 1]]"
       ]
      }
     ],
     "prompt_number": 11
    },
    {
     "cell_type": "code",
     "collapsed": false,
     "input": [
      "def divfac(N):\n",
      "    vec=factorize(N)\n",
      "    res=[]\n",
      "    num=len(vec[0])\n",
      "    mul=[0]*num\n",
      "#    print(vec)\n",
      "    while True:\n",
      "        res.append(reduce(lambda x,y: x*y, [vec[0][x]**mul[x] for x in range(num)]))\n",
      "        i=0\n",
      "        while True:\n",
      "            mul[i] += 1\n",
      "            if mul[i] <= vec[1][i]:\n",
      "                break\n",
      "            mul[i] = 0\n",
      "            i += 1\n",
      "            if i >= num:\n",
      "                res.pop()  # removes the last item of the list\n",
      "#        tmp.pop(0) # removes the item in position 0 \n",
      "                return res"
     ],
     "language": "python",
     "metadata": {},
     "outputs": [],
     "prompt_number": 18
    },
    {
     "cell_type": "code",
     "collapsed": false,
     "input": [
      "divfac(220)\n",
      "\n",
      "            "
     ],
     "language": "python",
     "metadata": {},
     "outputs": [
      {
       "metadata": {},
       "output_type": "pyout",
       "prompt_number": 23,
       "text": [
        "[1, 2, 4, 5, 10, 20, 11, 22, 44, 55, 110]"
       ]
      }
     ],
     "prompt_number": 23
    },
    {
     "cell_type": "code",
     "collapsed": false,
     "input": [
      "import time\n",
      "import numpy as np\n",
      "def amicable(N):\n",
      "    s=time.time()\n",
      "    res=[]\n",
      "    suma=[]\n",
      "    suma.append(0)\n",
      "    suma.append(1)\n",
      "    for x in range(2,N):\n",
      "        tmp=divfac(x)\n",
      "        suma.append(reduce(lambda x,y: x+y, tmp))\n",
      "    inter=time.time()\n",
      "    for i in range(N):\n",
      "        j=suma[i]\n",
      "        if j!=i and j<=N and suma[j]==i:\n",
      "            res.append(i)\n",
      "            res.append(j)\n",
      "            print(i,j)\n",
      "    e=time.time()\n",
      "    print(\"%g sec\"%(inter-s))\n",
      "    print(\"%g sec\"%(e-s))\n",
      "    return reduce(lambda x,y: x+y, np.unique(res))"
     ],
     "language": "python",
     "metadata": {},
     "outputs": [],
     "prompt_number": 16
    },
    {
     "cell_type": "code",
     "collapsed": false,
     "input": [
      "amicable(10000)"
     ],
     "language": "python",
     "metadata": {},
     "outputs": [
      {
       "output_type": "stream",
       "stream": "stdout",
       "text": [
        "(220, 284)\n",
        "(284, 220)\n",
        "(1184, 1210)\n",
        "(1210, 1184)\n",
        "(2620, 2924)\n",
        "(2924, 2620)\n",
        "(5020, 5564)\n",
        "(5564, 5020)\n",
        "(6232, 6368)\n",
        "(6368, 6232)\n",
        "35.0826 sec\n",
        "35.0847 sec\n"
       ]
      },
      {
       "metadata": {},
       "output_type": "pyout",
       "prompt_number": 17,
       "text": [
        "31626"
       ]
      }
     ],
     "prompt_number": 17
    },
    {
     "cell_type": "code",
     "collapsed": false,
     "input": [],
     "language": "python",
     "metadata": {},
     "outputs": [
      {
       "metadata": {},
       "output_type": "pyout",
       "prompt_number": 782,
       "text": [
        "31626"
       ]
      }
     ],
     "prompt_number": 782
    },
    {
     "cell_type": "code",
     "collapsed": false,
     "input": [],
     "language": "python",
     "metadata": {},
     "outputs": []
    }
   ],
   "metadata": {}
  }
 ]
}